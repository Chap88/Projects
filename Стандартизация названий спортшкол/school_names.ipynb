{
 "cells": [
  {
   "cell_type": "markdown",
   "id": "f3e94a81-8411-4905-b5a6-368f695c6fc1",
   "metadata": {},
   "source": [
    "Черняев Александр Павлович"
   ]
  },
  {
   "cell_type": "markdown",
   "id": "14046b8f-9ed0-40f3-97fa-59ea8ad39a9f",
   "metadata": {
    "jp-MarkdownHeadingCollapsed": true
   },
   "source": [
    "## Описание проекта\n",
    "Сервис  “Мой Чемпион” помогает спортивным школам фигурного катания, тренерам мониторить результаты своих подопечных и планировать дальнейшее развитие спортсменов.\n",
    "### Цель\n",
    "Создать решение для стандартизации названий спортивных школ.\n",
    "\n",
    "### Исходные данные\n",
    "- Эталонные написания названий\n",
    "- Приблизительные написания названий"
   ]
  },
  {
   "cell_type": "markdown",
   "id": "ea9bc948-97f0-4ef2-9f38-d2d67d2fc068",
   "metadata": {},
   "source": [
    "## Решение"
   ]
  },
  {
   "cell_type": "markdown",
   "id": "78bb13e8-eccc-4ec1-936a-30cf71381cc5",
   "metadata": {},
   "source": [
    "Импортируем библиотеки и модули"
   ]
  },
  {
   "cell_type": "code",
   "execution_count": 1,
   "id": "b9fcd88a-6505-4d9f-8849-ae8e3399644f",
   "metadata": {},
   "outputs": [
    {
     "name": "stderr",
     "output_type": "stream",
     "text": [
      "C:\\Anaconda\\Lib\\site-packages\\sentence_transformers\\cross_encoder\\CrossEncoder.py:11: TqdmExperimentalWarning: Using `tqdm.autonotebook.tqdm` in notebook mode. Use `tqdm.tqdm` instead to force console mode (e.g. in jupyter console)\n",
      "  from tqdm.autonotebook import tqdm, trange\n"
     ]
    }
   ],
   "source": [
    "import pandas as pd\n",
    "import numpy as np\n",
    "\n",
    "import re\n",
    "import random\n",
    "import requests\n",
    "\n",
    "from sklearn.model_selection import train_test_split\n",
    "\n",
    "from sentence_transformers import SentenceTransformer, InputExample, util, losses"
   ]
  },
  {
   "cell_type": "code",
   "execution_count": 2,
   "id": "3bbb26f9-8e21-4fa1-a16e-6343d990ccf4",
   "metadata": {},
   "outputs": [],
   "source": [
    "# Загрузим датасет с примерными написаниями названий\n",
    "approximate_names = pd.read_csv('approximate.csv')"
   ]
  },
  {
   "cell_type": "code",
   "execution_count": 3,
   "id": "bf5486f7-0a30-4b9c-9296-76bdd8bc2a1b",
   "metadata": {},
   "outputs": [
    {
     "data": {
      "text/html": [
       "<div>\n",
       "<style scoped>\n",
       "    .dataframe tbody tr th:only-of-type {\n",
       "        vertical-align: middle;\n",
       "    }\n",
       "\n",
       "    .dataframe tbody tr th {\n",
       "        vertical-align: top;\n",
       "    }\n",
       "\n",
       "    .dataframe thead th {\n",
       "        text-align: right;\n",
       "    }\n",
       "</style>\n",
       "<table border=\"1\" class=\"dataframe\">\n",
       "  <thead>\n",
       "    <tr style=\"text-align: right;\">\n",
       "      <th></th>\n",
       "      <th>school_id</th>\n",
       "      <th>name</th>\n",
       "    </tr>\n",
       "  </thead>\n",
       "  <tbody>\n",
       "    <tr>\n",
       "      <th>0</th>\n",
       "      <td>1836</td>\n",
       "      <td>ООО \"Триумф\"</td>\n",
       "    </tr>\n",
       "    <tr>\n",
       "      <th>1</th>\n",
       "      <td>1836</td>\n",
       "      <td>Москва, СК \"Триумф\"</td>\n",
       "    </tr>\n",
       "    <tr>\n",
       "      <th>2</th>\n",
       "      <td>610</td>\n",
       "      <td>СШОР \"Надежда Губернии</td>\n",
       "    </tr>\n",
       "    <tr>\n",
       "      <th>3</th>\n",
       "      <td>610</td>\n",
       "      <td>Саратовская область, ГБУСО \"СШОР \"Надежда Губе...</td>\n",
       "    </tr>\n",
       "    <tr>\n",
       "      <th>4</th>\n",
       "      <td>609</td>\n",
       "      <td>\"СШ \"Гвоздика\"</td>\n",
       "    </tr>\n",
       "  </tbody>\n",
       "</table>\n",
       "</div>"
      ],
      "text/plain": [
       "   school_id                                               name\n",
       "0       1836                                       ООО \"Триумф\"\n",
       "1       1836                                Москва, СК \"Триумф\"\n",
       "2        610                             СШОР \"Надежда Губернии\n",
       "3        610  Саратовская область, ГБУСО \"СШОР \"Надежда Губе...\n",
       "4        609                                     \"СШ \"Гвоздика\""
      ]
     },
     "execution_count": 3,
     "metadata": {},
     "output_type": "execute_result"
    }
   ],
   "source": [
    "approximate_names.head()"
   ]
  },
  {
   "cell_type": "code",
   "execution_count": 4,
   "id": "eccd3b25-2294-4b6e-a9ef-9fca412f3195",
   "metadata": {},
   "outputs": [],
   "source": [
    "# Загрузим датасет с эталонными написаниями названий\n",
    "school_names = pd.read_csv('schools.csv')"
   ]
  },
  {
   "cell_type": "code",
   "execution_count": 5,
   "id": "bd85a907-36c0-4402-bc93-167d747e0a31",
   "metadata": {},
   "outputs": [
    {
     "data": {
      "text/html": [
       "<div>\n",
       "<style scoped>\n",
       "    .dataframe tbody tr th:only-of-type {\n",
       "        vertical-align: middle;\n",
       "    }\n",
       "\n",
       "    .dataframe tbody tr th {\n",
       "        vertical-align: top;\n",
       "    }\n",
       "\n",
       "    .dataframe thead th {\n",
       "        text-align: right;\n",
       "    }\n",
       "</style>\n",
       "<table border=\"1\" class=\"dataframe\">\n",
       "  <thead>\n",
       "    <tr style=\"text-align: right;\">\n",
       "      <th></th>\n",
       "      <th>school_id</th>\n",
       "      <th>name</th>\n",
       "      <th>region</th>\n",
       "    </tr>\n",
       "  </thead>\n",
       "  <tbody>\n",
       "    <tr>\n",
       "      <th>0</th>\n",
       "      <td>1</td>\n",
       "      <td>Авангард</td>\n",
       "      <td>Московская область</td>\n",
       "    </tr>\n",
       "    <tr>\n",
       "      <th>1</th>\n",
       "      <td>2</td>\n",
       "      <td>Авангард</td>\n",
       "      <td>Ямало-Ненецкий АО</td>\n",
       "    </tr>\n",
       "    <tr>\n",
       "      <th>2</th>\n",
       "      <td>3</td>\n",
       "      <td>Авиатор</td>\n",
       "      <td>Республика Татарстан</td>\n",
       "    </tr>\n",
       "    <tr>\n",
       "      <th>3</th>\n",
       "      <td>4</td>\n",
       "      <td>Аврора</td>\n",
       "      <td>Санкт-Петербург</td>\n",
       "    </tr>\n",
       "    <tr>\n",
       "      <th>4</th>\n",
       "      <td>5</td>\n",
       "      <td>Ice Dream / Айс Дрим</td>\n",
       "      <td>Санкт-Петербург</td>\n",
       "    </tr>\n",
       "  </tbody>\n",
       "</table>\n",
       "</div>"
      ],
      "text/plain": [
       "   school_id                  name                region\n",
       "0          1              Авангард    Московская область\n",
       "1          2              Авангард     Ямало-Ненецкий АО\n",
       "2          3               Авиатор  Республика Татарстан\n",
       "3          4                Аврора       Санкт-Петербург\n",
       "4          5  Ice Dream / Айс Дрим       Санкт-Петербург"
      ]
     },
     "execution_count": 5,
     "metadata": {},
     "output_type": "execute_result"
    }
   ],
   "source": [
    "school_names.head()"
   ]
  },
  {
   "cell_type": "code",
   "execution_count": 6,
   "id": "0a8b48ed-fcb4-4261-9ccb-d9c10d624ebe",
   "metadata": {},
   "outputs": [
    {
     "name": "stdout",
     "output_type": "stream",
     "text": [
      "<class 'pandas.core.frame.DataFrame'>\n",
      "RangeIndex: 306 entries, 0 to 305\n",
      "Data columns (total 3 columns):\n",
      " #   Column     Non-Null Count  Dtype \n",
      "---  ------     --------------  ----- \n",
      " 0   school_id  306 non-null    int64 \n",
      " 1   name       306 non-null    object\n",
      " 2   region     306 non-null    object\n",
      "dtypes: int64(1), object(2)\n",
      "memory usage: 7.3+ KB\n"
     ]
    }
   ],
   "source": [
    "school_names.info()"
   ]
  },
  {
   "cell_type": "code",
   "execution_count": 7,
   "id": "46fbb803-1fdb-4499-8eea-e1536108e0fc",
   "metadata": {},
   "outputs": [],
   "source": [
    "# Создадим рабочий датасет из датасета с эталонными написаниями названий\n",
    "df = school_names.copy()"
   ]
  },
  {
   "cell_type": "markdown",
   "id": "3f1146f7-9d6b-4a78-9a06-2d60e3eb1e84",
   "metadata": {},
   "source": [
    "Создадим образец написания названия школы по типу \"Регион, Название школы\" в колонке `title`"
   ]
  },
  {
   "cell_type": "code",
   "execution_count": 8,
   "id": "04b231b9-1da0-4ef3-948f-7920303cc542",
   "metadata": {},
   "outputs": [],
   "source": [
    "df['title'] = df['region'] + ' ' + df['name']"
   ]
  },
  {
   "cell_type": "markdown",
   "id": "f3f12dad-2ad6-4c62-9b5c-6ae1d1513d2d",
   "metadata": {},
   "source": [
    "Оставим только колонки `school_id` и `title`"
   ]
  },
  {
   "cell_type": "code",
   "execution_count": 9,
   "id": "7aa4846e-d6c1-4353-accf-892cac70b6ba",
   "metadata": {},
   "outputs": [],
   "source": [
    "df = df[['school_id', 'title']]"
   ]
  },
  {
   "cell_type": "markdown",
   "id": "121fd60c-e62e-4f2d-9ee5-37750c4aeec9",
   "metadata": {},
   "source": [
    "Напишем функцию для аугментации написаний названий"
   ]
  },
  {
   "cell_type": "code",
   "execution_count": 10,
   "id": "282af184-18bd-461b-a0a8-92fd7b1986f9",
   "metadata": {},
   "outputs": [],
   "source": [
    "# Функция для аугментации\n",
    "def aug(word):\n",
    "    # Пропущена каждая 3-я буква\n",
    "    a1 = ''.join([x for i,x in enumerate(word) if i%3 != 2])\n",
    "\n",
    "    # Удалены все гласные буквы\n",
    "    a2 = ''.join(i for i in word if i not in 'АаЕеЁёИиОоУуЫыЭэЮюЯя')\n",
    "    a2 = ' '.join(a2.split())\n",
    "\n",
    "    #Удаление случайного элемента из каждого слова\n",
    "    a3 = ''\n",
    "    l = word.split(' ')\n",
    "    for w in l:\n",
    "        if len(w) < 2:\n",
    "            a3 = w\n",
    "        else:\n",
    "            i = random.randint(0, len(w)-2)\n",
    "            new_word = w.replace(w[i], '', 1)\n",
    "            a3 += new_word + ' '\n",
    "    a3 = a3[:-1]\n",
    "            #a3 = ' '.join(a3.split())\n",
    "\n",
    "    # Случайные соседние буквы поменяны местами в каждом слове\n",
    "    a4 = ''\n",
    "    l = word.split(' ')\n",
    "    for w in l:\n",
    "        if len(w) < 2:\n",
    "            a4 = w\n",
    "        else:\n",
    "            i = random.randint(0, len(w)-2)\n",
    "            new_word = w[:i] + w[i + 1] + w[i] + w[i + 2:]\n",
    "            a4 += new_word + ' '\n",
    "    a4 = a4[:-1]\n",
    "    \n",
    "    return [a1, a2, a3, a4]"
   ]
  },
  {
   "cell_type": "code",
   "execution_count": 11,
   "id": "5af84c01-a904-4778-ac3d-857b725c0e5f",
   "metadata": {},
   "outputs": [],
   "source": [
    "# Применяем функцию\n",
    "df['augmented'] = df['title'].transform(lambda x: aug(x))"
   ]
  },
  {
   "cell_type": "code",
   "execution_count": 12,
   "id": "c5679590-4ad3-46a8-b2a4-e97e8b064662",
   "metadata": {},
   "outputs": [
    {
     "data": {
      "text/html": [
       "<div>\n",
       "<style scoped>\n",
       "    .dataframe tbody tr th:only-of-type {\n",
       "        vertical-align: middle;\n",
       "    }\n",
       "\n",
       "    .dataframe tbody tr th {\n",
       "        vertical-align: top;\n",
       "    }\n",
       "\n",
       "    .dataframe thead th {\n",
       "        text-align: right;\n",
       "    }\n",
       "</style>\n",
       "<table border=\"1\" class=\"dataframe\">\n",
       "  <thead>\n",
       "    <tr style=\"text-align: right;\">\n",
       "      <th></th>\n",
       "      <th>school_id</th>\n",
       "      <th>title</th>\n",
       "      <th>augmented</th>\n",
       "    </tr>\n",
       "  </thead>\n",
       "  <tbody>\n",
       "    <tr>\n",
       "      <th>0</th>\n",
       "      <td>1</td>\n",
       "      <td>Московская область Авангард</td>\n",
       "      <td>[Мокоскя блст Аанар, Мсквск блсть внгрд, Моско...</td>\n",
       "    </tr>\n",
       "    <tr>\n",
       "      <th>1</th>\n",
       "      <td>2</td>\n",
       "      <td>Ямало-Ненецкий АО Авангард</td>\n",
       "      <td>[ЯмлоНеецийАОАвнгрд, мл-Ннцкй внгрд, ЯмалоНене...</td>\n",
       "    </tr>\n",
       "    <tr>\n",
       "      <th>2</th>\n",
       "      <td>3</td>\n",
       "      <td>Республика Татарстан Авиатор</td>\n",
       "      <td>[Репулиа атрсанАватр, Рспблк Ттрстн втр, Рспуб...</td>\n",
       "    </tr>\n",
       "    <tr>\n",
       "      <th>3</th>\n",
       "      <td>4</td>\n",
       "      <td>Санкт-Петербург Аврора</td>\n",
       "      <td>[СактПеерур Ароа, Снкт-Птрбрг врр, анкт-Петерб...</td>\n",
       "    </tr>\n",
       "    <tr>\n",
       "      <th>4</th>\n",
       "      <td>5</td>\n",
       "      <td>Санкт-Петербург Ice Dream / Айс Дрим</td>\n",
       "      <td>[СактПеерур Ie rem  Ас ри, Снкт-Птрбрг Ice Dre...</td>\n",
       "    </tr>\n",
       "    <tr>\n",
       "      <th>5</th>\n",
       "      <td>6</td>\n",
       "      <td>Республика Крым Айсберг</td>\n",
       "      <td>[Репулиа ры Асбрг, Рспблк Крм йсбрг, Республиа...</td>\n",
       "    </tr>\n",
       "    <tr>\n",
       "      <th>6</th>\n",
       "      <td>7</td>\n",
       "      <td>Рязанская область Айсберг</td>\n",
       "      <td>[Ряанка олатьАйбег, Рзнск блсть йсбрг, Рзанска...</td>\n",
       "    </tr>\n",
       "    <tr>\n",
       "      <th>7</th>\n",
       "      <td>8</td>\n",
       "      <td>Свердловская область Айсберг</td>\n",
       "      <td>[Сврдовка олатьАйбег, Сврдлвск блсть йсбрг, Се...</td>\n",
       "    </tr>\n",
       "    <tr>\n",
       "      <th>8</th>\n",
       "      <td>9</td>\n",
       "      <td>Северодвинск  Звездочка</td>\n",
       "      <td>[Сеердвнс  ведока, Сврдвнск Звздчк, Звздочка, ...</td>\n",
       "    </tr>\n",
       "    <tr>\n",
       "      <th>9</th>\n",
       "      <td>10</td>\n",
       "      <td>Москва Академия синхронного катания на коньках</td>\n",
       "      <td>[Мокв Аадми снхоног ктаиянакоькх, Мскв кдм снх...</td>\n",
       "    </tr>\n",
       "    <tr>\n",
       "      <th>10</th>\n",
       "      <td>11</td>\n",
       "      <td>Республика Мордовия Академия ФКК</td>\n",
       "      <td>[Репулиа оровя каемя КК, Рспблк Мрдв кдм ФКК, ...</td>\n",
       "    </tr>\n",
       "    <tr>\n",
       "      <th>11</th>\n",
       "      <td>12</td>\n",
       "      <td>Саранск Академия ФКК</td>\n",
       "      <td>[Саанк каемя КК, Срнск кдм ФКК, аранск Аадемия...</td>\n",
       "    </tr>\n",
       "    <tr>\n",
       "      <th>12</th>\n",
       "      <td>13</td>\n",
       "      <td>Краснодарский край Аллигатор</td>\n",
       "      <td>[Крсндаскй ра Алиатр, Крсндрскй крй ллгтр, Кра...</td>\n",
       "    </tr>\n",
       "    <tr>\n",
       "      <th>13</th>\n",
       "      <td>14</td>\n",
       "      <td>Московская область Альберта Демченко</td>\n",
       "      <td>[Мокоскя блст Аьбрт Дмчнк, Мсквск блсть льбрт ...</td>\n",
       "    </tr>\n",
       "    <tr>\n",
       "      <th>14</th>\n",
       "      <td>15</td>\n",
       "      <td>Москва Ангелы Плющенко</td>\n",
       "      <td>[Мокв Агеы люено, Мскв нгл Плщнк, Мсква Анелы ...</td>\n",
       "    </tr>\n",
       "    <tr>\n",
       "      <th>15</th>\n",
       "      <td>16</td>\n",
       "      <td>Московская область Ангелы Плющенко</td>\n",
       "      <td>[Мокоскя блст Агеы люено, Мсквск блсть нгл Плщ...</td>\n",
       "    </tr>\n",
       "    <tr>\n",
       "      <th>16</th>\n",
       "      <td>17</td>\n",
       "      <td>Санкт-Петербург ТОП ТИМ - лучшая команда</td>\n",
       "      <td>[СактПеерур ТП ИМ- учаякоана, Снкт-Птрбрг ТП Т...</td>\n",
       "    </tr>\n",
       "    <tr>\n",
       "      <th>17</th>\n",
       "      <td>18</td>\n",
       "      <td>Курская область Арена</td>\n",
       "      <td>[Кускя блст Аен, Крск блсть рн, Крская облась ...</td>\n",
       "    </tr>\n",
       "    <tr>\n",
       "      <th>18</th>\n",
       "      <td>19</td>\n",
       "      <td>Ямало-Ненецкий АО Арктур</td>\n",
       "      <td>[ЯмлоНеецийАОАрту, мл-Ннцкй рктр, Ямло-Ненецки...</td>\n",
       "    </tr>\n",
       "    <tr>\n",
       "      <th>19</th>\n",
       "      <td>20</td>\n",
       "      <td>Москва Армия фигурного катания</td>\n",
       "      <td>[Мокв Ами фгуноо атни, Мскв рм фгрнг ктн, Моск...</td>\n",
       "    </tr>\n",
       "  </tbody>\n",
       "</table>\n",
       "</div>"
      ],
      "text/plain": [
       "    school_id                                           title  \\\n",
       "0           1                     Московская область Авангард   \n",
       "1           2                      Ямало-Ненецкий АО Авангард   \n",
       "2           3                    Республика Татарстан Авиатор   \n",
       "3           4                          Санкт-Петербург Аврора   \n",
       "4           5            Санкт-Петербург Ice Dream / Айс Дрим   \n",
       "5           6                         Республика Крым Айсберг   \n",
       "6           7                       Рязанская область Айсберг   \n",
       "7           8                    Свердловская область Айсберг   \n",
       "8           9                         Северодвинск  Звездочка   \n",
       "9          10  Москва Академия синхронного катания на коньках   \n",
       "10         11                Республика Мордовия Академия ФКК   \n",
       "11         12                            Саранск Академия ФКК   \n",
       "12         13                    Краснодарский край Аллигатор   \n",
       "13         14            Московская область Альберта Демченко   \n",
       "14         15                          Москва Ангелы Плющенко   \n",
       "15         16              Московская область Ангелы Плющенко   \n",
       "16         17        Санкт-Петербург ТОП ТИМ - лучшая команда   \n",
       "17         18                           Курская область Арена   \n",
       "18         19                        Ямало-Ненецкий АО Арктур   \n",
       "19         20                  Москва Армия фигурного катания   \n",
       "\n",
       "                                            augmented  \n",
       "0   [Мокоскя блст Аанар, Мсквск блсть внгрд, Моско...  \n",
       "1   [ЯмлоНеецийАОАвнгрд, мл-Ннцкй внгрд, ЯмалоНене...  \n",
       "2   [Репулиа атрсанАватр, Рспблк Ттрстн втр, Рспуб...  \n",
       "3   [СактПеерур Ароа, Снкт-Птрбрг врр, анкт-Петерб...  \n",
       "4   [СактПеерур Ie rem  Ас ри, Снкт-Птрбрг Ice Dre...  \n",
       "5   [Репулиа ры Асбрг, Рспблк Крм йсбрг, Республиа...  \n",
       "6   [Ряанка олатьАйбег, Рзнск блсть йсбрг, Рзанска...  \n",
       "7   [Сврдовка олатьАйбег, Сврдлвск блсть йсбрг, Се...  \n",
       "8   [Сеердвнс  ведока, Сврдвнск Звздчк, Звздочка, ...  \n",
       "9   [Мокв Аадми снхоног ктаиянакоькх, Мскв кдм снх...  \n",
       "10  [Репулиа оровя каемя КК, Рспблк Мрдв кдм ФКК, ...  \n",
       "11  [Саанк каемя КК, Срнск кдм ФКК, аранск Аадемия...  \n",
       "12  [Крсндаскй ра Алиатр, Крсндрскй крй ллгтр, Кра...  \n",
       "13  [Мокоскя блст Аьбрт Дмчнк, Мсквск блсть льбрт ...  \n",
       "14  [Мокв Агеы люено, Мскв нгл Плщнк, Мсква Анелы ...  \n",
       "15  [Мокоскя блст Агеы люено, Мсквск блсть нгл Плщ...  \n",
       "16  [СактПеерур ТП ИМ- учаякоана, Снкт-Птрбрг ТП Т...  \n",
       "17  [Кускя блст Аен, Крск блсть рн, Крская облась ...  \n",
       "18  [ЯмлоНеецийАОАрту, мл-Ннцкй рктр, Ямло-Ненецки...  \n",
       "19  [Мокв Ами фгуноо атни, Мскв рм фгрнг ктн, Моск...  "
      ]
     },
     "execution_count": 12,
     "metadata": {},
     "output_type": "execute_result"
    }
   ],
   "source": [
    "# Смотрим на результат\n",
    "df.head(20)"
   ]
  },
  {
   "cell_type": "code",
   "execution_count": 13,
   "id": "e613312b-3a33-41b7-852b-95ff03ef69d0",
   "metadata": {},
   "outputs": [],
   "source": [
    "# Добавим в df['augmented'] название школы без региона\n",
    "for i in range(df.shape[0]):\n",
    "    df['augmented'][i].append(school_names['name'][i])"
   ]
  },
  {
   "cell_type": "code",
   "execution_count": 14,
   "id": "2f8b9f6a-cba9-403d-a81c-cf87ebaa4563",
   "metadata": {},
   "outputs": [],
   "source": [
    "df_augmented = df.explode('augmented')[['title', 'augmented']].reset_index(drop=True)"
   ]
  },
  {
   "cell_type": "code",
   "execution_count": 16,
   "id": "3951f533-87bd-42db-b283-747d02b86a19",
   "metadata": {
    "scrolled": true
   },
   "outputs": [
    {
     "data": {
      "text/html": [
       "<div>\n",
       "<style scoped>\n",
       "    .dataframe tbody tr th:only-of-type {\n",
       "        vertical-align: middle;\n",
       "    }\n",
       "\n",
       "    .dataframe tbody tr th {\n",
       "        vertical-align: top;\n",
       "    }\n",
       "\n",
       "    .dataframe thead th {\n",
       "        text-align: right;\n",
       "    }\n",
       "</style>\n",
       "<table border=\"1\" class=\"dataframe\">\n",
       "  <thead>\n",
       "    <tr style=\"text-align: right;\">\n",
       "      <th></th>\n",
       "      <th>title</th>\n",
       "      <th>augmented</th>\n",
       "    </tr>\n",
       "  </thead>\n",
       "  <tbody>\n",
       "    <tr>\n",
       "      <th>0</th>\n",
       "      <td>Московская область Авангард</td>\n",
       "      <td>Мокоскя блст Аанар</td>\n",
       "    </tr>\n",
       "    <tr>\n",
       "      <th>1</th>\n",
       "      <td>Московская область Авангард</td>\n",
       "      <td>Мсквск блсть внгрд</td>\n",
       "    </tr>\n",
       "    <tr>\n",
       "      <th>2</th>\n",
       "      <td>Московская область Авангард</td>\n",
       "      <td>Москоская обасть вангард</td>\n",
       "    </tr>\n",
       "    <tr>\n",
       "      <th>3</th>\n",
       "      <td>Московская область Авангард</td>\n",
       "      <td>Московксая облсать Аванагрд</td>\n",
       "    </tr>\n",
       "    <tr>\n",
       "      <th>4</th>\n",
       "      <td>Московская область Авангард</td>\n",
       "      <td>Авангард</td>\n",
       "    </tr>\n",
       "    <tr>\n",
       "      <th>...</th>\n",
       "      <td>...</td>\n",
       "      <td>...</td>\n",
       "    </tr>\n",
       "    <tr>\n",
       "      <th>1525</th>\n",
       "      <td>Москва ООО \"Триумф\"</td>\n",
       "      <td>Мокв ОО Трум\"</td>\n",
       "    </tr>\n",
       "    <tr>\n",
       "      <th>1526</th>\n",
       "      <td>Москва ООО \"Триумф\"</td>\n",
       "      <td>Мскв \"Трмф\"</td>\n",
       "    </tr>\n",
       "    <tr>\n",
       "      <th>1527</th>\n",
       "      <td>Москва ООО \"Триумф\"</td>\n",
       "      <td>Мосва ОО \"Тиумф\"</td>\n",
       "    </tr>\n",
       "    <tr>\n",
       "      <th>1528</th>\n",
       "      <td>Москва ООО \"Триумф\"</td>\n",
       "      <td>Мосвка ООО \"Триуфм\"</td>\n",
       "    </tr>\n",
       "    <tr>\n",
       "      <th>1529</th>\n",
       "      <td>Москва ООО \"Триумф\"</td>\n",
       "      <td>ООО \"Триумф\"</td>\n",
       "    </tr>\n",
       "  </tbody>\n",
       "</table>\n",
       "<p>1530 rows × 2 columns</p>\n",
       "</div>"
      ],
      "text/plain": [
       "                            title                    augmented\n",
       "0     Московская область Авангард           Мокоскя блст Аанар\n",
       "1     Московская область Авангард           Мсквск блсть внгрд\n",
       "2     Московская область Авангард     Москоская обасть вангард\n",
       "3     Московская область Авангард  Московксая облсать Аванагрд\n",
       "4     Московская область Авангард                     Авангард\n",
       "...                           ...                          ...\n",
       "1525          Москва ООО \"Триумф\"                Мокв ОО Трум\"\n",
       "1526          Москва ООО \"Триумф\"                  Мскв \"Трмф\"\n",
       "1527          Москва ООО \"Триумф\"             Мосва ОО \"Тиумф\"\n",
       "1528          Москва ООО \"Триумф\"          Мосвка ООО \"Триуфм\"\n",
       "1529          Москва ООО \"Триумф\"                 ООО \"Триумф\"\n",
       "\n",
       "[1530 rows x 2 columns]"
      ]
     },
     "execution_count": 16,
     "metadata": {},
     "output_type": "execute_result"
    }
   ],
   "source": [
    "df_augmented"
   ]
  },
  {
   "cell_type": "markdown",
   "id": "c7e83b7c-ad5c-4a87-957d-2f5685a1e13a",
   "metadata": {},
   "source": [
    "Создадим тренировочную и тестовую выборки"
   ]
  },
  {
   "cell_type": "code",
   "execution_count": 17,
   "id": "f12feeaa-f9e5-4045-a258-d6d125907701",
   "metadata": {},
   "outputs": [],
   "source": [
    "train, test = train_test_split(df_augmented, test_size = 0.2, random_state = 12345)"
   ]
  },
  {
   "cell_type": "markdown",
   "id": "456fecc1-6bc2-4543-b68f-4f2e9bb1a54b",
   "metadata": {},
   "source": [
    "Выведем размеры выборок"
   ]
  },
  {
   "cell_type": "code",
   "execution_count": 18,
   "id": "ddede51f-020b-4498-875a-1bf2ff873233",
   "metadata": {},
   "outputs": [
    {
     "data": {
      "text/plain": [
       "(1224, 2)"
      ]
     },
     "execution_count": 18,
     "metadata": {},
     "output_type": "execute_result"
    }
   ],
   "source": [
    "train.shape"
   ]
  },
  {
   "cell_type": "code",
   "execution_count": 19,
   "id": "5aef5491-0a9b-4b99-a754-2770db2e3d49",
   "metadata": {},
   "outputs": [
    {
     "data": {
      "text/plain": [
       "(306, 2)"
      ]
     },
     "execution_count": 19,
     "metadata": {},
     "output_type": "execute_result"
    }
   ],
   "source": [
    "test.shape"
   ]
  },
  {
   "cell_type": "markdown",
   "id": "aa12fb08-1f77-4a40-bd5e-405d109376b3",
   "metadata": {},
   "source": [
    "Объявляем модель"
   ]
  },
  {
   "cell_type": "code",
   "execution_count": 20,
   "id": "c5188f2b-d1c0-4b44-8c6a-7c7cad934c61",
   "metadata": {},
   "outputs": [],
   "source": [
    "model = SentenceTransformer('sentence-transformers/LaBSE')"
   ]
  },
  {
   "cell_type": "code",
   "execution_count": 21,
   "id": "9b5bb6c4-9fcf-4c00-958e-c92bc0bb1432",
   "metadata": {},
   "outputs": [],
   "source": [
    "# Оставим в датасете df только колонки 'title' и 'augmented'\n",
    "df = df[['title', 'augmented']]"
   ]
  },
  {
   "cell_type": "code",
   "execution_count": 22,
   "id": "b61aa4c2-ee30-4640-bb4a-283747028607",
   "metadata": {},
   "outputs": [
    {
     "data": {
      "text/html": [
       "<div>\n",
       "<style scoped>\n",
       "    .dataframe tbody tr th:only-of-type {\n",
       "        vertical-align: middle;\n",
       "    }\n",
       "\n",
       "    .dataframe tbody tr th {\n",
       "        vertical-align: top;\n",
       "    }\n",
       "\n",
       "    .dataframe thead th {\n",
       "        text-align: right;\n",
       "    }\n",
       "</style>\n",
       "<table border=\"1\" class=\"dataframe\">\n",
       "  <thead>\n",
       "    <tr style=\"text-align: right;\">\n",
       "      <th></th>\n",
       "      <th>title</th>\n",
       "      <th>augmented</th>\n",
       "    </tr>\n",
       "  </thead>\n",
       "  <tbody>\n",
       "    <tr>\n",
       "      <th>0</th>\n",
       "      <td>Московская область Авангард</td>\n",
       "      <td>[Мокоскя блст Аанар, Мсквск блсть внгрд, Моско...</td>\n",
       "    </tr>\n",
       "    <tr>\n",
       "      <th>1</th>\n",
       "      <td>Ямало-Ненецкий АО Авангард</td>\n",
       "      <td>[ЯмлоНеецийАОАвнгрд, мл-Ннцкй внгрд, ЯмалоНене...</td>\n",
       "    </tr>\n",
       "    <tr>\n",
       "      <th>2</th>\n",
       "      <td>Республика Татарстан Авиатор</td>\n",
       "      <td>[Репулиа атрсанАватр, Рспблк Ттрстн втр, Рспуб...</td>\n",
       "    </tr>\n",
       "    <tr>\n",
       "      <th>3</th>\n",
       "      <td>Санкт-Петербург Аврора</td>\n",
       "      <td>[СактПеерур Ароа, Снкт-Птрбрг врр, анкт-Петерб...</td>\n",
       "    </tr>\n",
       "    <tr>\n",
       "      <th>4</th>\n",
       "      <td>Санкт-Петербург Ice Dream / Айс Дрим</td>\n",
       "      <td>[СактПеерур Ie rem  Ас ри, Снкт-Птрбрг Ice Dre...</td>\n",
       "    </tr>\n",
       "    <tr>\n",
       "      <th>...</th>\n",
       "      <td>...</td>\n",
       "      <td>...</td>\n",
       "    </tr>\n",
       "    <tr>\n",
       "      <th>301</th>\n",
       "      <td>Алтайский край Прогресс</td>\n",
       "      <td>[Алайки кайПргрсс, лтйскй крй Пргрсс, Алтаский...</td>\n",
       "    </tr>\n",
       "    <tr>\n",
       "      <th>302</th>\n",
       "      <td>Удмуртская республика \"СШ \"Гвоздика\"</td>\n",
       "      <td>[Удурскя есубик \"Ш Гвздка, дмртск рспблк \"СШ \"...</td>\n",
       "    </tr>\n",
       "    <tr>\n",
       "      <th>303</th>\n",
       "      <td>Саратовская область СШОР \"Надежда Губернии</td>\n",
       "      <td>[Саатвсаяобась ШО \"аджд Гбени, Сртвск блсть СШ...</td>\n",
       "    </tr>\n",
       "    <tr>\n",
       "      <th>304</th>\n",
       "      <td>Пермский край КФК «Айсберг»</td>\n",
       "      <td>[Пемсийкрй ФК«Асбрг, Прмскй крй КФК «йсбрг», е...</td>\n",
       "    </tr>\n",
       "    <tr>\n",
       "      <th>305</th>\n",
       "      <td>Москва ООО \"Триумф\"</td>\n",
       "      <td>[Мокв ОО Трум\", Мскв \"Трмф\", Мосва ОО \"Тиумф\",...</td>\n",
       "    </tr>\n",
       "  </tbody>\n",
       "</table>\n",
       "<p>306 rows × 2 columns</p>\n",
       "</div>"
      ],
      "text/plain": [
       "                                          title  \\\n",
       "0                   Московская область Авангард   \n",
       "1                    Ямало-Ненецкий АО Авангард   \n",
       "2                  Республика Татарстан Авиатор   \n",
       "3                        Санкт-Петербург Аврора   \n",
       "4          Санкт-Петербург Ice Dream / Айс Дрим   \n",
       "..                                          ...   \n",
       "301                     Алтайский край Прогресс   \n",
       "302        Удмуртская республика \"СШ \"Гвоздика\"   \n",
       "303  Саратовская область СШОР \"Надежда Губернии   \n",
       "304                 Пермский край КФК «Айсберг»   \n",
       "305                         Москва ООО \"Триумф\"   \n",
       "\n",
       "                                             augmented  \n",
       "0    [Мокоскя блст Аанар, Мсквск блсть внгрд, Моско...  \n",
       "1    [ЯмлоНеецийАОАвнгрд, мл-Ннцкй внгрд, ЯмалоНене...  \n",
       "2    [Репулиа атрсанАватр, Рспблк Ттрстн втр, Рспуб...  \n",
       "3    [СактПеерур Ароа, Снкт-Птрбрг врр, анкт-Петерб...  \n",
       "4    [СактПеерур Ie rem  Ас ри, Снкт-Птрбрг Ice Dre...  \n",
       "..                                                 ...  \n",
       "301  [Алайки кайПргрсс, лтйскй крй Пргрсс, Алтаский...  \n",
       "302  [Удурскя есубик \"Ш Гвздка, дмртск рспблк \"СШ \"...  \n",
       "303  [Саатвсаяобась ШО \"аджд Гбени, Сртвск блсть СШ...  \n",
       "304  [Пемсийкрй ФК«Асбрг, Прмскй крй КФК «йсбрг», е...  \n",
       "305  [Мокв ОО Трум\", Мскв \"Трмф\", Мосва ОО \"Тиумф\",...  \n",
       "\n",
       "[306 rows x 2 columns]"
      ]
     },
     "execution_count": 22,
     "metadata": {},
     "output_type": "execute_result"
    }
   ],
   "source": [
    "df"
   ]
  },
  {
   "cell_type": "code",
   "execution_count": 23,
   "id": "80ba380a-d9bc-410a-a365-656d26ea3741",
   "metadata": {},
   "outputs": [],
   "source": [
    "# Создадим эмбеддинги для эталонных написаний названий\n",
    "corpus = model.encode(df['title'].values)"
   ]
  },
  {
   "cell_type": "code",
   "execution_count": 24,
   "id": "d630e5d9-69dc-4ac9-b1b0-c5c5329a0289",
   "metadata": {},
   "outputs": [],
   "source": [
    "# Создадим эмбеддинги для аугментированных написаний названий\n",
    "query = model.encode(test['augmented'].values)"
   ]
  },
  {
   "cell_type": "code",
   "execution_count": 25,
   "id": "24421eb6-4008-4463-a89e-dd1ef5c46eaa",
   "metadata": {},
   "outputs": [],
   "source": [
    "search_result = util.semantic_search(query, corpus, top_k = 1)"
   ]
  },
  {
   "cell_type": "code",
   "execution_count": 26,
   "id": "e0d0a916-4076-4e3b-8f40-3392546d7863",
   "metadata": {},
   "outputs": [],
   "source": [
    "# Извлечём id школ из корпуса\n",
    "test['candidate_idx'] = [x[0]['corpus_id'] for x in search_result]"
   ]
  },
  {
   "cell_type": "code",
   "execution_count": 27,
   "id": "7a15a846-2dfd-44f6-803a-b0e383eeb8c4",
   "metadata": {},
   "outputs": [
    {
     "data": {
      "text/html": [
       "<div>\n",
       "<style scoped>\n",
       "    .dataframe tbody tr th:only-of-type {\n",
       "        vertical-align: middle;\n",
       "    }\n",
       "\n",
       "    .dataframe tbody tr th {\n",
       "        vertical-align: top;\n",
       "    }\n",
       "\n",
       "    .dataframe thead th {\n",
       "        text-align: right;\n",
       "    }\n",
       "</style>\n",
       "<table border=\"1\" class=\"dataframe\">\n",
       "  <thead>\n",
       "    <tr style=\"text-align: right;\">\n",
       "      <th></th>\n",
       "      <th>title</th>\n",
       "      <th>augmented</th>\n",
       "      <th>candidate_idx</th>\n",
       "    </tr>\n",
       "  </thead>\n",
       "  <tbody>\n",
       "    <tr>\n",
       "      <th>677</th>\n",
       "      <td>Москва ПроСинхро</td>\n",
       "      <td>Моска ПоСинхро</td>\n",
       "      <td>135</td>\n",
       "    </tr>\n",
       "    <tr>\n",
       "      <th>1497</th>\n",
       "      <td>Москва ООО \"СетПоинт\"</td>\n",
       "      <td>Моква ОО \"СетПоит\"</td>\n",
       "      <td>299</td>\n",
       "    </tr>\n",
       "    <tr>\n",
       "      <th>927</th>\n",
       "      <td>Мурманская область СШ № 6</td>\n",
       "      <td></td>\n",
       "      <td>279</td>\n",
       "    </tr>\n",
       "    <tr>\n",
       "      <th>131</th>\n",
       "      <td>Санкт-Петербург Буревестник</td>\n",
       "      <td>Снкт-Птрбрг Брвстнк</td>\n",
       "      <td>26</td>\n",
       "    </tr>\n",
       "    <tr>\n",
       "      <th>298</th>\n",
       "      <td>Иркутская область Ермак</td>\n",
       "      <td>Иркутсакя боласть Ерамк</td>\n",
       "      <td>59</td>\n",
       "    </tr>\n",
       "    <tr>\n",
       "      <th>...</th>\n",
       "      <td>...</td>\n",
       "      <td>...</td>\n",
       "      <td>...</td>\n",
       "    </tr>\n",
       "    <tr>\n",
       "      <th>768</th>\n",
       "      <td>Воронежская область Сияние</td>\n",
       "      <td>Вроонежская обалсть иСяние</td>\n",
       "      <td>153</td>\n",
       "    </tr>\n",
       "    <tr>\n",
       "      <th>250</th>\n",
       "      <td>Белгородская область ДЮСШ по ЗВС</td>\n",
       "      <td>Бегоодка олатьДЮШ о ВС</td>\n",
       "      <td>50</td>\n",
       "    </tr>\n",
       "    <tr>\n",
       "      <th>900</th>\n",
       "      <td>Вологодская область СШ № 1</td>\n",
       "      <td>Воогдсаяобась Ш  1</td>\n",
       "      <td>180</td>\n",
       "    </tr>\n",
       "    <tr>\n",
       "      <th>1106</th>\n",
       "      <td>Санкт-Петербург Темпо</td>\n",
       "      <td>Снкт-Птрбрг Тмп</td>\n",
       "      <td>221</td>\n",
       "    </tr>\n",
       "    <tr>\n",
       "      <th>523</th>\n",
       "      <td>Санкт-Петербург СК ФК Т. Москвиной</td>\n",
       "      <td>Санкт-еПтербург КС КФ .Т Мосвкиной</td>\n",
       "      <td>104</td>\n",
       "    </tr>\n",
       "  </tbody>\n",
       "</table>\n",
       "<p>306 rows × 3 columns</p>\n",
       "</div>"
      ],
      "text/plain": [
       "                                   title                           augmented  \\\n",
       "677                     Москва ПроСинхро                      Моска ПоСинхро   \n",
       "1497               Москва ООО \"СетПоинт\"                  Моква ОО \"СетПоит\"   \n",
       "927            Мурманская область СШ № 6                                       \n",
       "131          Санкт-Петербург Буревестник                 Снкт-Птрбрг Брвстнк   \n",
       "298              Иркутская область Ермак             Иркутсакя боласть Ерамк   \n",
       "...                                  ...                                 ...   \n",
       "768           Воронежская область Сияние          Вроонежская обалсть иСяние   \n",
       "250     Белгородская область ДЮСШ по ЗВС              Бегоодка олатьДЮШ о ВС   \n",
       "900           Вологодская область СШ № 1                  Воогдсаяобась Ш  1   \n",
       "1106               Санкт-Петербург Темпо                     Снкт-Птрбрг Тмп   \n",
       "523   Санкт-Петербург СК ФК Т. Москвиной  Санкт-еПтербург КС КФ .Т Мосвкиной   \n",
       "\n",
       "      candidate_idx  \n",
       "677             135  \n",
       "1497            299  \n",
       "927             279  \n",
       "131              26  \n",
       "298              59  \n",
       "...             ...  \n",
       "768             153  \n",
       "250              50  \n",
       "900             180  \n",
       "1106            221  \n",
       "523             104  \n",
       "\n",
       "[306 rows x 3 columns]"
      ]
     },
     "execution_count": 27,
     "metadata": {},
     "output_type": "execute_result"
    }
   ],
   "source": [
    "# Проверим результат\n",
    "test"
   ]
  },
  {
   "cell_type": "code",
   "execution_count": 28,
   "id": "a87050ba-025f-40fa-9c80-15ba719969e2",
   "metadata": {},
   "outputs": [],
   "source": [
    "# Добавим названий школ по id\n",
    "test['candidate_name'] = df['title'].values[test['candidate_idx'].values]"
   ]
  },
  {
   "cell_type": "code",
   "execution_count": 29,
   "id": "53858bb6-4d1a-4bea-851d-d075cb96a29d",
   "metadata": {
    "scrolled": true
   },
   "outputs": [
    {
     "data": {
      "text/html": [
       "<div>\n",
       "<style scoped>\n",
       "    .dataframe tbody tr th:only-of-type {\n",
       "        vertical-align: middle;\n",
       "    }\n",
       "\n",
       "    .dataframe tbody tr th {\n",
       "        vertical-align: top;\n",
       "    }\n",
       "\n",
       "    .dataframe thead th {\n",
       "        text-align: right;\n",
       "    }\n",
       "</style>\n",
       "<table border=\"1\" class=\"dataframe\">\n",
       "  <thead>\n",
       "    <tr style=\"text-align: right;\">\n",
       "      <th></th>\n",
       "      <th>title</th>\n",
       "      <th>augmented</th>\n",
       "      <th>candidate_idx</th>\n",
       "      <th>candidate_name</th>\n",
       "    </tr>\n",
       "  </thead>\n",
       "  <tbody>\n",
       "    <tr>\n",
       "      <th>677</th>\n",
       "      <td>Москва ПроСинхро</td>\n",
       "      <td>Моска ПоСинхро</td>\n",
       "      <td>135</td>\n",
       "      <td>Москва ПроСинхро</td>\n",
       "    </tr>\n",
       "    <tr>\n",
       "      <th>1497</th>\n",
       "      <td>Москва ООО \"СетПоинт\"</td>\n",
       "      <td>Моква ОО \"СетПоит\"</td>\n",
       "      <td>299</td>\n",
       "      <td>Москва ООО \"СетПоинт\"</td>\n",
       "    </tr>\n",
       "    <tr>\n",
       "      <th>927</th>\n",
       "      <td>Мурманская область СШ № 6</td>\n",
       "      <td></td>\n",
       "      <td>279</td>\n",
       "      <td>Санкт-Петербург СШ (ОРК) филиала ФАУ МО РФ ЦСК...</td>\n",
       "    </tr>\n",
       "    <tr>\n",
       "      <th>131</th>\n",
       "      <td>Санкт-Петербург Буревестник</td>\n",
       "      <td>Снкт-Птрбрг Брвстнк</td>\n",
       "      <td>26</td>\n",
       "      <td>Санкт-Петербург Буревестник</td>\n",
       "    </tr>\n",
       "    <tr>\n",
       "      <th>298</th>\n",
       "      <td>Иркутская область Ермак</td>\n",
       "      <td>Иркутсакя боласть Ерамк</td>\n",
       "      <td>59</td>\n",
       "      <td>Иркутская область Ермак</td>\n",
       "    </tr>\n",
       "    <tr>\n",
       "      <th>...</th>\n",
       "      <td>...</td>\n",
       "      <td>...</td>\n",
       "      <td>...</td>\n",
       "      <td>...</td>\n",
       "    </tr>\n",
       "    <tr>\n",
       "      <th>768</th>\n",
       "      <td>Воронежская область Сияние</td>\n",
       "      <td>Вроонежская обалсть иСяние</td>\n",
       "      <td>153</td>\n",
       "      <td>Воронежская область Сияние</td>\n",
       "    </tr>\n",
       "    <tr>\n",
       "      <th>250</th>\n",
       "      <td>Белгородская область ДЮСШ по ЗВС</td>\n",
       "      <td>Бегоодка олатьДЮШ о ВС</td>\n",
       "      <td>50</td>\n",
       "      <td>Белгородская область ДЮСШ по ЗВС</td>\n",
       "    </tr>\n",
       "    <tr>\n",
       "      <th>900</th>\n",
       "      <td>Вологодская область СШ № 1</td>\n",
       "      <td>Воогдсаяобась Ш  1</td>\n",
       "      <td>180</td>\n",
       "      <td>Вологодская область СШ № 1</td>\n",
       "    </tr>\n",
       "    <tr>\n",
       "      <th>1106</th>\n",
       "      <td>Санкт-Петербург Темпо</td>\n",
       "      <td>Снкт-Птрбрг Тмп</td>\n",
       "      <td>221</td>\n",
       "      <td>Санкт-Петербург Темпо</td>\n",
       "    </tr>\n",
       "    <tr>\n",
       "      <th>523</th>\n",
       "      <td>Санкт-Петербург СК ФК Т. Москвиной</td>\n",
       "      <td>Санкт-еПтербург КС КФ .Т Мосвкиной</td>\n",
       "      <td>104</td>\n",
       "      <td>Санкт-Петербург СК ФК Т. Москвиной</td>\n",
       "    </tr>\n",
       "  </tbody>\n",
       "</table>\n",
       "<p>306 rows × 4 columns</p>\n",
       "</div>"
      ],
      "text/plain": [
       "                                   title                           augmented  \\\n",
       "677                     Москва ПроСинхро                      Моска ПоСинхро   \n",
       "1497               Москва ООО \"СетПоинт\"                  Моква ОО \"СетПоит\"   \n",
       "927            Мурманская область СШ № 6                                       \n",
       "131          Санкт-Петербург Буревестник                 Снкт-Птрбрг Брвстнк   \n",
       "298              Иркутская область Ермак             Иркутсакя боласть Ерамк   \n",
       "...                                  ...                                 ...   \n",
       "768           Воронежская область Сияние          Вроонежская обалсть иСяние   \n",
       "250     Белгородская область ДЮСШ по ЗВС              Бегоодка олатьДЮШ о ВС   \n",
       "900           Вологодская область СШ № 1                  Воогдсаяобась Ш  1   \n",
       "1106               Санкт-Петербург Темпо                     Снкт-Птрбрг Тмп   \n",
       "523   Санкт-Петербург СК ФК Т. Москвиной  Санкт-еПтербург КС КФ .Т Мосвкиной   \n",
       "\n",
       "      candidate_idx                                     candidate_name  \n",
       "677             135                                   Москва ПроСинхро  \n",
       "1497            299                              Москва ООО \"СетПоинт\"  \n",
       "927             279  Санкт-Петербург СШ (ОРК) филиала ФАУ МО РФ ЦСК...  \n",
       "131              26                        Санкт-Петербург Буревестник  \n",
       "298              59                            Иркутская область Ермак  \n",
       "...             ...                                                ...  \n",
       "768             153                         Воронежская область Сияние  \n",
       "250              50                   Белгородская область ДЮСШ по ЗВС  \n",
       "900             180                         Вологодская область СШ № 1  \n",
       "1106            221                              Санкт-Петербург Темпо  \n",
       "523             104                 Санкт-Петербург СК ФК Т. Москвиной  \n",
       "\n",
       "[306 rows x 4 columns]"
      ]
     },
     "execution_count": 29,
     "metadata": {},
     "output_type": "execute_result"
    }
   ],
   "source": [
    "# Смотрим на результат\n",
    "test"
   ]
  },
  {
   "cell_type": "markdown",
   "id": "f7835634-edf9-4101-b085-bcc70d66c57e",
   "metadata": {},
   "source": [
    "Проверим соответствие, вычислим метрику Accuracy:"
   ]
  },
  {
   "cell_type": "code",
   "execution_count": 37,
   "id": "c217e306-acec-49ee-b98b-5676e5a02b7c",
   "metadata": {},
   "outputs": [
    {
     "name": "stdout",
     "output_type": "stream",
     "text": [
      "Accuracy: 0.63\n"
     ]
    }
   ],
   "source": [
    "print('Accuracy:', ((test['title'] == test['candidate_name']).sum()/test.shape[0]).round(2))"
   ]
  },
  {
   "cell_type": "markdown",
   "id": "daba9377-771c-46ba-8826-4eea5f350bb3",
   "metadata": {},
   "source": [
    "## Вывод"
   ]
  },
  {
   "cell_type": "markdown",
   "id": "02aeec05-37e1-4cd0-a267-bfd9ac057525",
   "metadata": {},
   "source": [
    "Результат можно улучшить с помощью добавления новых аугментированных названий"
   ]
  },
  {
   "cell_type": "code",
   "execution_count": null,
   "id": "f7ec14cf-cb02-484c-93d6-d715f3c99988",
   "metadata": {},
   "outputs": [],
   "source": []
  }
 ],
 "metadata": {
  "kernelspec": {
   "display_name": "Python 3 (ipykernel)",
   "language": "python",
   "name": "python3"
  },
  "language_info": {
   "codemirror_mode": {
    "name": "ipython",
    "version": 3
   },
   "file_extension": ".py",
   "mimetype": "text/x-python",
   "name": "python",
   "nbconvert_exporter": "python",
   "pygments_lexer": "ipython3",
   "version": "3.11.7"
  }
 },
 "nbformat": 4,
 "nbformat_minor": 5
}
